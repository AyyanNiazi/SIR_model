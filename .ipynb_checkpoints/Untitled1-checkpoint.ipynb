{
 "cells": [
  {
   "cell_type": "markdown",
   "metadata": {},
   "source": [
    "# Predict apple or orange\n"
   ]
  },
  {
   "cell_type": "code",
   "execution_count": 39,
   "metadata": {},
   "outputs": [
    {
     "name": "stdout",
     "output_type": "stream",
     "text": [
      "[1]\n"
     ]
    }
   ],
   "source": [
    "\n",
    "from sklearn import tree\n",
    "#  in feature & labels 1 represent apple and 0 represent orange\n",
    "features = [[140, 1], [130,1], [150,0], [170,0]] ;\n",
    "labels = [0,0,1,1];\n",
    "clfr = tree.DecisionTreeClassifier();\n",
    "clfr = clfr.fit(features, labels);\n",
    "print(clfr.predict([[170,0]]))"
   ]
  },
  {
   "cell_type": "code",
   "execution_count": null,
   "metadata": {},
   "outputs": [],
   "source": []
  },
  {
   "cell_type": "markdown",
   "metadata": {},
   "source": [
    "# Iris model Predict which is current  class of flower"
   ]
  },
  {
   "cell_type": "code",
   "execution_count": 38,
   "metadata": {},
   "outputs": [
    {
     "name": "stdout",
     "output_type": "stream",
     "text": [
      "[0 1 2]\n",
      "[0 1 2]\n"
     ]
    }
   ],
   "source": [
    "import numpy as np\n",
    "from sklearn.datasets import load_iris\n",
    "from sklearn import tree\n",
    "from sklearn.externals.six import StringIO\n",
    "import graphviz \n",
    "import pydotplus\n",
    "\n",
    "\n",
    "iris = load_iris();\n",
    "# 0 is class 1 and 50 is class 2 and 3 is class 3\n",
    "test_idx= [0,50,100];\n",
    "\n",
    "# training data\n",
    "train_target = np.delete(iris.target, test_idx);\n",
    "train_data = np.delete(iris.data, test_idx, axis=0);\n",
    "\n",
    "#test data\n",
    "test_target= iris.target[test_idx];\n",
    "test_data = iris.data[test_idx]\n",
    "\n",
    "# classifier\n",
    "clfr = tree.DecisionTreeClassifier();\n",
    "clfr.fit(train_data, train_target);\n",
    "\n",
    "# Predicted result or labels\n",
    "print(test_target);\n",
    "print(clfr.predict(test_data));\n",
    "\n",
    "# visualization\n",
    "dot_data = StringIO()\n",
    "tree.export_graphviz(clfr, out_file=dot_data, \n",
    "                      feature_names=iris.feature_names,  \n",
    "                      class_names=iris.target_names,  \n",
    "                      filled=True, rounded=True,  \n",
    "                      special_characters=True,\n",
    "                    impurity=False)  ;\n",
    "graph = pydotplus.graph_from_dot_data(dot_data.getvalue());\n",
    "graph.write_pdf(\"iris.pdf\");"
   ]
  },
  {
   "cell_type": "markdown",
   "metadata": {},
   "source": [
    "# Prediction of Same Type of data behalf on their properties\n",
    "## always use independnt data \n",
    "## Don't use ever similar data which can damage our result"
   ]
  },
  {
   "cell_type": "code",
   "execution_count": 43,
   "metadata": {},
   "outputs": [
    {
     "data": {
      "image/png": "[encoded data removed]",
      "text/plain": [
       "<Figure size 432x288 with 1 Axes>"
      ]
     },
     "metadata": {
      "needs_background": "light"
     },
     "output_type": "display_data"
    }
   ],
   "source": [
    "import numpy as np\n",
    "import matplotlib.pyplot as plt\n",
    "\n",
    "# 2 dogs 1 is greyhounds, and 1 is labs;\n",
    "greyhounds = 500;\n",
    "labs = 500;\n",
    "grey_height = 28 + 4 * np.random.randn(greyhounds);\n",
    "labs_height = 28 + 4 * np.random.randn(labs);\n",
    "\n",
    "# plot a graph\n",
    "plt.hist([grey_height, labs_height], stacked=True, color=['r','g']);\n",
    "plt.show();\n",
    "\n",
    "\n",
    "\n",
    "\n",
    "# not completed"
   ]
  }
 ],
 "metadata": {
  "kernelspec": {
   "display_name": "Python 3",
   "language": "python",
   "name": "python3"
  },
  "language_info": {
   "codemirror_mode": {
    "name": "ipython",
    "version": 3
   },
   "file_extension": ".py",
   "mimetype": "text/x-python",
   "name": "python",
   "nbconvert_exporter": "python",
   "pygments_lexer": "ipython3",
   "version": "3.7.2"
  }
 },
 "nbformat": 4,
 "nbformat_minor": 2
}
